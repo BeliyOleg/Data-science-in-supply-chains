{
 "cells": [
  {
   "cell_type": "code",
   "execution_count": 1,
   "id": "4c326191-69f5-4fa5-83a1-d5c3ec902e88",
   "metadata": {},
   "outputs": [
    {
     "data": {
      "text/plain": [
       "sys.version_info(major=3, minor=11, micro=4, releaselevel='final', serial=0)"
      ]
     },
     "execution_count": 1,
     "metadata": {},
     "output_type": "execute_result"
    }
   ],
   "source": [
    "import sys\n",
    "sys.version_info"
   ]
  },
  {
   "cell_type": "markdown",
   "id": "256233fd-7494-452f-a97b-7227aaeb34a3",
   "metadata": {},
   "source": [
    "# Получение данных"
   ]
  },
  {
   "cell_type": "code",
   "execution_count": 2,
   "id": "8e45e765-378c-4eee-80d1-b3536a7c0ca7",
   "metadata": {},
   "outputs": [
    {
     "data": {
      "text/html": [
       "<div>\n",
       "<style scoped>\n",
       "    .dataframe tbody tr th:only-of-type {\n",
       "        vertical-align: middle;\n",
       "    }\n",
       "\n",
       "    .dataframe tbody tr th {\n",
       "        vertical-align: top;\n",
       "    }\n",
       "\n",
       "    .dataframe thead th {\n",
       "        text-align: right;\n",
       "    }\n",
       "</style>\n",
       "<table border=\"1\" class=\"dataframe\">\n",
       "  <thead>\n",
       "    <tr style=\"text-align: right;\">\n",
       "      <th></th>\n",
       "      <th>apple</th>\n",
       "      <th>banana</th>\n",
       "      <th>pear</th>\n",
       "      <th>orange</th>\n",
       "      <th>lemon</th>\n",
       "    </tr>\n",
       "  </thead>\n",
       "  <tbody>\n",
       "    <tr>\n",
       "      <th>0</th>\n",
       "      <td>825.0</td>\n",
       "      <td>309.0</td>\n",
       "      <td>416.0</td>\n",
       "      <td>522.0</td>\n",
       "      <td>571.0</td>\n",
       "    </tr>\n",
       "    <tr>\n",
       "      <th>1</th>\n",
       "      <td>618.0</td>\n",
       "      <td>358.0</td>\n",
       "      <td>459.0</td>\n",
       "      <td>460.0</td>\n",
       "      <td>657.0</td>\n",
       "    </tr>\n",
       "    <tr>\n",
       "      <th>2</th>\n",
       "      <td>2144.0</td>\n",
       "      <td>1020.0</td>\n",
       "      <td>1147.0</td>\n",
       "      <td>1660.0</td>\n",
       "      <td>1599.0</td>\n",
       "    </tr>\n",
       "    <tr>\n",
       "      <th>3</th>\n",
       "      <td>727.0</td>\n",
       "      <td>349.0</td>\n",
       "      <td>418.0</td>\n",
       "      <td>556.0</td>\n",
       "      <td>437.0</td>\n",
       "    </tr>\n",
       "    <tr>\n",
       "      <th>4</th>\n",
       "      <td>667.0</td>\n",
       "      <td>272.0</td>\n",
       "      <td>409.0</td>\n",
       "      <td>556.0</td>\n",
       "      <td>634.0</td>\n",
       "    </tr>\n",
       "  </tbody>\n",
       "</table>\n",
       "</div>"
      ],
      "text/plain": [
       "    apple  banana    pear  orange   lemon\n",
       "0   825.0   309.0   416.0   522.0   571.0\n",
       "1   618.0   358.0   459.0   460.0   657.0\n",
       "2  2144.0  1020.0  1147.0  1660.0  1599.0\n",
       "3   727.0   349.0   418.0   556.0   437.0\n",
       "4   667.0   272.0   409.0   556.0   634.0"
      ]
     },
     "execution_count": 2,
     "metadata": {},
     "output_type": "execute_result"
    }
   ],
   "source": [
    "import pandas as pd\n",
    "#информация о магазинах\n",
    "shop_info = pd.DataFrame(pd.read_pickle(r'shop_info.pkl')).T.drop(['shop_size_coef','shop_id'],axis=1)\n",
    "shop_info.head()"
   ]
  },
  {
   "cell_type": "code",
   "execution_count": 3,
   "id": "af48d6f1-60bf-4bdf-a8dc-1f8378575d9b",
   "metadata": {},
   "outputs": [
    {
     "data": {
      "text/html": [
       "<div>\n",
       "<style scoped>\n",
       "    .dataframe tbody tr th:only-of-type {\n",
       "        vertical-align: middle;\n",
       "    }\n",
       "\n",
       "    .dataframe tbody tr th {\n",
       "        vertical-align: top;\n",
       "    }\n",
       "\n",
       "    .dataframe thead th {\n",
       "        text-align: right;\n",
       "    }\n",
       "</style>\n",
       "<table border=\"1\" class=\"dataframe\">\n",
       "  <thead>\n",
       "    <tr style=\"text-align: right;\">\n",
       "      <th></th>\n",
       "      <th>apple</th>\n",
       "      <th>banana</th>\n",
       "      <th>pear</th>\n",
       "      <th>orange</th>\n",
       "      <th>lemon</th>\n",
       "    </tr>\n",
       "  </thead>\n",
       "  <tbody>\n",
       "    <tr>\n",
       "      <th>apple</th>\n",
       "      <td>0.00</td>\n",
       "      <td>0.15</td>\n",
       "      <td>-0.15</td>\n",
       "      <td>0.17</td>\n",
       "      <td>0.17</td>\n",
       "    </tr>\n",
       "    <tr>\n",
       "      <th>banana</th>\n",
       "      <td>0.15</td>\n",
       "      <td>0.00</td>\n",
       "      <td>0.12</td>\n",
       "      <td>0.10</td>\n",
       "      <td>0.10</td>\n",
       "    </tr>\n",
       "    <tr>\n",
       "      <th>pear</th>\n",
       "      <td>-0.15</td>\n",
       "      <td>0.12</td>\n",
       "      <td>0.00</td>\n",
       "      <td>0.12</td>\n",
       "      <td>0.12</td>\n",
       "    </tr>\n",
       "    <tr>\n",
       "      <th>orange</th>\n",
       "      <td>0.17</td>\n",
       "      <td>0.10</td>\n",
       "      <td>0.12</td>\n",
       "      <td>0.00</td>\n",
       "      <td>-0.19</td>\n",
       "    </tr>\n",
       "    <tr>\n",
       "      <th>lemon</th>\n",
       "      <td>0.17</td>\n",
       "      <td>0.10</td>\n",
       "      <td>0.12</td>\n",
       "      <td>-0.19</td>\n",
       "      <td>0.00</td>\n",
       "    </tr>\n",
       "  </tbody>\n",
       "</table>\n",
       "</div>"
      ],
      "text/plain": [
       "        apple  banana  pear  orange  lemon\n",
       "apple    0.00    0.15 -0.15    0.17   0.17\n",
       "banana   0.15    0.00  0.12    0.10   0.10\n",
       "pear    -0.15    0.12  0.00    0.12   0.12\n",
       "orange   0.17    0.10  0.12    0.00  -0.19\n",
       "lemon    0.17    0.10  0.12   -0.19   0.00"
      ]
     },
     "execution_count": 3,
     "metadata": {},
     "output_type": "execute_result"
    }
   ],
   "source": [
    "#коэффициенты взаимосвязи продуктов\n",
    "p_r = pd.read_pickle(r'product_rels.pkl')\n",
    "l = list(p_r.values())\n",
    "d = {'apple': l[0:5], 'banana': l[5:10], 'pear': l[10:15], 'orange':l[15:20], 'lemon':l[20:25]} \n",
    "product_rels = pd.DataFrame(d,index=['apple','banana','pear','orange','lemon'])\n",
    "product_rels"
   ]
  },
  {
   "cell_type": "code",
   "execution_count": 4,
   "id": "b55d9cd1-bfe4-4fba-8310-1239a0659316",
   "metadata": {},
   "outputs": [
    {
     "data": {
      "text/html": [
       "<div>\n",
       "<style scoped>\n",
       "    .dataframe tbody tr th:only-of-type {\n",
       "        vertical-align: middle;\n",
       "    }\n",
       "\n",
       "    .dataframe tbody tr th {\n",
       "        vertical-align: top;\n",
       "    }\n",
       "\n",
       "    .dataframe thead th {\n",
       "        text-align: right;\n",
       "    }\n",
       "</style>\n",
       "<table border=\"1\" class=\"dataframe\">\n",
       "  <thead>\n",
       "    <tr style=\"text-align: right;\">\n",
       "      <th></th>\n",
       "      <th>price_apple</th>\n",
       "      <th>price_banana</th>\n",
       "      <th>price_pear</th>\n",
       "      <th>price_orange</th>\n",
       "      <th>price_lemon</th>\n",
       "    </tr>\n",
       "  </thead>\n",
       "  <tbody>\n",
       "    <tr>\n",
       "      <th>0</th>\n",
       "      <td>90.0</td>\n",
       "      <td>80.0</td>\n",
       "      <td>130.0</td>\n",
       "      <td>100.0</td>\n",
       "      <td>110.0</td>\n",
       "    </tr>\n",
       "    <tr>\n",
       "      <th>1</th>\n",
       "      <td>90.0</td>\n",
       "      <td>80.0</td>\n",
       "      <td>130.0</td>\n",
       "      <td>100.0</td>\n",
       "      <td>110.0</td>\n",
       "    </tr>\n",
       "    <tr>\n",
       "      <th>2</th>\n",
       "      <td>90.0</td>\n",
       "      <td>80.0</td>\n",
       "      <td>130.0</td>\n",
       "      <td>100.0</td>\n",
       "      <td>110.0</td>\n",
       "    </tr>\n",
       "    <tr>\n",
       "      <th>3</th>\n",
       "      <td>90.0</td>\n",
       "      <td>80.0</td>\n",
       "      <td>130.0</td>\n",
       "      <td>100.0</td>\n",
       "      <td>110.0</td>\n",
       "    </tr>\n",
       "    <tr>\n",
       "      <th>4</th>\n",
       "      <td>90.0</td>\n",
       "      <td>80.0</td>\n",
       "      <td>130.0</td>\n",
       "      <td>100.0</td>\n",
       "      <td>110.0</td>\n",
       "    </tr>\n",
       "    <tr>\n",
       "      <th>5</th>\n",
       "      <td>80.0</td>\n",
       "      <td>80.0</td>\n",
       "      <td>120.0</td>\n",
       "      <td>95.0</td>\n",
       "      <td>105.0</td>\n",
       "    </tr>\n",
       "    <tr>\n",
       "      <th>6</th>\n",
       "      <td>80.0</td>\n",
       "      <td>80.0</td>\n",
       "      <td>120.0</td>\n",
       "      <td>95.0</td>\n",
       "      <td>105.0</td>\n",
       "    </tr>\n",
       "    <tr>\n",
       "      <th>7</th>\n",
       "      <td>80.0</td>\n",
       "      <td>80.0</td>\n",
       "      <td>120.0</td>\n",
       "      <td>95.0</td>\n",
       "      <td>105.0</td>\n",
       "    </tr>\n",
       "    <tr>\n",
       "      <th>8</th>\n",
       "      <td>80.0</td>\n",
       "      <td>80.0</td>\n",
       "      <td>120.0</td>\n",
       "      <td>95.0</td>\n",
       "      <td>105.0</td>\n",
       "    </tr>\n",
       "    <tr>\n",
       "      <th>9</th>\n",
       "      <td>80.0</td>\n",
       "      <td>80.0</td>\n",
       "      <td>120.0</td>\n",
       "      <td>90.0</td>\n",
       "      <td>100.0</td>\n",
       "    </tr>\n",
       "    <tr>\n",
       "      <th>10</th>\n",
       "      <td>80.0</td>\n",
       "      <td>80.0</td>\n",
       "      <td>120.0</td>\n",
       "      <td>90.0</td>\n",
       "      <td>100.0</td>\n",
       "    </tr>\n",
       "    <tr>\n",
       "      <th>11</th>\n",
       "      <td>80.0</td>\n",
       "      <td>80.0</td>\n",
       "      <td>120.0</td>\n",
       "      <td>90.0</td>\n",
       "      <td>100.0</td>\n",
       "    </tr>\n",
       "    <tr>\n",
       "      <th>12</th>\n",
       "      <td>80.0</td>\n",
       "      <td>80.0</td>\n",
       "      <td>120.0</td>\n",
       "      <td>90.0</td>\n",
       "      <td>100.0</td>\n",
       "    </tr>\n",
       "    <tr>\n",
       "      <th>13</th>\n",
       "      <td>85.0</td>\n",
       "      <td>80.0</td>\n",
       "      <td>125.0</td>\n",
       "      <td>85.0</td>\n",
       "      <td>95.0</td>\n",
       "    </tr>\n",
       "    <tr>\n",
       "      <th>14</th>\n",
       "      <td>85.0</td>\n",
       "      <td>80.0</td>\n",
       "      <td>125.0</td>\n",
       "      <td>85.0</td>\n",
       "      <td>95.0</td>\n",
       "    </tr>\n",
       "    <tr>\n",
       "      <th>15</th>\n",
       "      <td>85.0</td>\n",
       "      <td>80.0</td>\n",
       "      <td>125.0</td>\n",
       "      <td>85.0</td>\n",
       "      <td>95.0</td>\n",
       "    </tr>\n",
       "    <tr>\n",
       "      <th>16</th>\n",
       "      <td>85.0</td>\n",
       "      <td>80.0</td>\n",
       "      <td>125.0</td>\n",
       "      <td>85.0</td>\n",
       "      <td>95.0</td>\n",
       "    </tr>\n",
       "    <tr>\n",
       "      <th>17</th>\n",
       "      <td>85.0</td>\n",
       "      <td>80.0</td>\n",
       "      <td>125.0</td>\n",
       "      <td>85.0</td>\n",
       "      <td>95.0</td>\n",
       "    </tr>\n",
       "    <tr>\n",
       "      <th>18</th>\n",
       "      <td>90.0</td>\n",
       "      <td>80.0</td>\n",
       "      <td>130.0</td>\n",
       "      <td>75.0</td>\n",
       "      <td>85.0</td>\n",
       "    </tr>\n",
       "    <tr>\n",
       "      <th>19</th>\n",
       "      <td>90.0</td>\n",
       "      <td>80.0</td>\n",
       "      <td>130.0</td>\n",
       "      <td>75.0</td>\n",
       "      <td>85.0</td>\n",
       "    </tr>\n",
       "    <tr>\n",
       "      <th>20</th>\n",
       "      <td>90.0</td>\n",
       "      <td>80.0</td>\n",
       "      <td>130.0</td>\n",
       "      <td>75.0</td>\n",
       "      <td>85.0</td>\n",
       "    </tr>\n",
       "    <tr>\n",
       "      <th>21</th>\n",
       "      <td>90.0</td>\n",
       "      <td>80.0</td>\n",
       "      <td>130.0</td>\n",
       "      <td>75.0</td>\n",
       "      <td>85.0</td>\n",
       "    </tr>\n",
       "    <tr>\n",
       "      <th>22</th>\n",
       "      <td>90.0</td>\n",
       "      <td>80.0</td>\n",
       "      <td>130.0</td>\n",
       "      <td>75.0</td>\n",
       "      <td>85.0</td>\n",
       "    </tr>\n",
       "    <tr>\n",
       "      <th>23</th>\n",
       "      <td>90.0</td>\n",
       "      <td>80.0</td>\n",
       "      <td>130.0</td>\n",
       "      <td>75.0</td>\n",
       "      <td>85.0</td>\n",
       "    </tr>\n",
       "  </tbody>\n",
       "</table>\n",
       "</div>"
      ],
      "text/plain": [
       "    price_apple  price_banana  price_pear  price_orange  price_lemon\n",
       "0          90.0          80.0       130.0         100.0        110.0\n",
       "1          90.0          80.0       130.0         100.0        110.0\n",
       "2          90.0          80.0       130.0         100.0        110.0\n",
       "3          90.0          80.0       130.0         100.0        110.0\n",
       "4          90.0          80.0       130.0         100.0        110.0\n",
       "5          80.0          80.0       120.0          95.0        105.0\n",
       "6          80.0          80.0       120.0          95.0        105.0\n",
       "7          80.0          80.0       120.0          95.0        105.0\n",
       "8          80.0          80.0       120.0          95.0        105.0\n",
       "9          80.0          80.0       120.0          90.0        100.0\n",
       "10         80.0          80.0       120.0          90.0        100.0\n",
       "11         80.0          80.0       120.0          90.0        100.0\n",
       "12         80.0          80.0       120.0          90.0        100.0\n",
       "13         85.0          80.0       125.0          85.0         95.0\n",
       "14         85.0          80.0       125.0          85.0         95.0\n",
       "15         85.0          80.0       125.0          85.0         95.0\n",
       "16         85.0          80.0       125.0          85.0         95.0\n",
       "17         85.0          80.0       125.0          85.0         95.0\n",
       "18         90.0          80.0       130.0          75.0         85.0\n",
       "19         90.0          80.0       130.0          75.0         85.0\n",
       "20         90.0          80.0       130.0          75.0         85.0\n",
       "21         90.0          80.0       130.0          75.0         85.0\n",
       "22         90.0          80.0       130.0          75.0         85.0\n",
       "23         90.0          80.0       130.0          75.0         85.0"
      ]
     },
     "execution_count": 4,
     "metadata": {},
     "output_type": "execute_result"
    }
   ],
   "source": [
    "#сезонная информация о ценах\n",
    "prices = pd.read_csv(r'prices.csv').drop(['year_week','start_weekday'],axis=1).head(24)\n",
    "prices"
   ]
  },
  {
   "cell_type": "markdown",
   "id": "f4835151-51f3-41fb-9dd3-0f8d0795177c",
   "metadata": {},
   "source": [
    "# Оптимизация"
   ]
  },
  {
   "cell_type": "markdown",
   "id": "c120c791-2eae-49b2-87dd-ac430ce46b6b",
   "metadata": {},
   "source": [
    "## Задание № 1"
   ]
  },
  {
   "cell_type": "code",
   "execution_count": 5,
   "id": "fd94c4d7-1f9c-4384-9be5-96a262e1a1e4",
   "metadata": {},
   "outputs": [],
   "source": [
    "import numpy as np\n",
    "import pyomo.environ as pyomo\n",
    "from pyomo.opt import SolverStatus, TerminationCondition"
   ]
  },
  {
   "cell_type": "code",
   "execution_count": 6,
   "id": "418c5c4f-7792-4fd8-a8ad-d5b790ac1d6e",
   "metadata": {},
   "outputs": [],
   "source": [
    "def optimize(df1: pd.DataFrame, df2: pd.DataFrame, df3: pd.DataFrame, limits: dict) -> list:\n",
    "    \n",
    "    #создание модели\n",
    "    model = pyomo.ConcreteModel('model')\n",
    "    \n",
    "    #число магазинов\n",
    "    S = df1.shape[0]\n",
    "    #число продуктов\n",
    "    P = df2.shape[0]\n",
    "    #число недель\n",
    "    W = df3.shape[0]\n",
    "    #матрица продаж продуктов в магазинах\n",
    "    M = df1.values\n",
    "    #матрица связанных продуктов\n",
    "    C = df2.values\n",
    "    #матрица сезонных ожидаемых цен \n",
    "    #(транспонирую, чтобы недели стали столбцами, т.к. переменные в целевой функции имеют индекс w для столбцов)\n",
    "    r_seasonal = df3.values.T\n",
    "    \n",
    "    #задание переменных задачи\n",
    "    model.p = pyomo.Set(initialize=range(P))\n",
    "    model.w = pyomo.Set(initialize=range(W))\n",
    "    model.R = pyomo.Set(initialize=model.p*model.w)\n",
    "    #матрица цен продукта p в неделю w\n",
    "    model.r = pyomo.Var(model.R, domain=pyomo.NonNegativeReals)\n",
    "    \n",
    "    #целевая функция\n",
    "    F = sum(sum(sum(model.r[p,w] * (M[s,p] * (-(model.r[p,w]/r_seasonal[p,w])**2 - 0.075 * model.r[p,w]/r_seasonal[p,w] + 2.85)/1.775 \n",
    "                            + sum((r_seasonal[o,w]/model.r[o,w])**2 * C[p,o] * M[s,o] for o in range(P)))\\\n",
    "                            for w in range(W)) for p in range(P)) for s in range(S)) \n",
    "    \n",
    "    model.obj = pyomo.Objective(expr=F, sense=pyomo.maximize)\n",
    "\n",
    "    # объявление ограничений\n",
    "    model.c = pyomo.ConstraintList()\n",
    "\n",
    "    #диапазоны на цены\n",
    "    for p in range(P):\n",
    "        for w in range(W):\n",
    "            model.c.add(model.r[p,w] >= limits['left']*r_seasonal[p,w])\n",
    "            model.c.add(model.r[p,w] <= limits['right']*r_seasonal[p,w])\n",
    "    \n",
    "    solver = pyomo.SolverFactory('ipopt')\n",
    "    results = solver.solve(model,timelimit=500)\n",
    "\n",
    "    if (results.solver.status == SolverStatus.ok) or (results.solver.termination_condition == TerminationCondition.optimal):\n",
    "        print(results)\n",
    "        print(model.obj())\n",
    "        return [[model.r[p,w].value for w in range(W)]for p in range(P)]\n",
    "    else:\n",
    "        print (\"Solver Status:\",  result.solver.status)"
   ]
  },
  {
   "cell_type": "code",
   "execution_count": 7,
   "id": "4c8f3aaa-b884-4d53-8bba-8d44835317d3",
   "metadata": {},
   "outputs": [],
   "source": [
    "#коэффициенты ограничивающих диапазонов цен\n",
    "LIMITS = {\n",
    "    'right': 1.25,\n",
    "    'left': 0.75\n",
    "}"
   ]
  },
  {
   "cell_type": "code",
   "execution_count": 8,
   "id": "0aed6104-e489-41c6-ad05-467a8fbde07b",
   "metadata": {},
   "outputs": [
    {
     "name": "stdout",
     "output_type": "stream",
     "text": [
      "\n",
      "Problem: \n",
      "- Lower bound: -inf\n",
      "  Upper bound: inf\n",
      "  Number of objectives: 1\n",
      "  Number of constraints: 240\n",
      "  Number of variables: 120\n",
      "  Sense: unknown\n",
      "Solver: \n",
      "- Status: ok\n",
      "  Message: Ipopt 3.5.4\\x3a Optimal Solution Found\n",
      "  Termination condition: optimal\n",
      "  Id: 0\n",
      "  Error rc: 0\n",
      "  Time: 5.310377597808838\n",
      "Solution: \n",
      "- number of solutions: 0\n",
      "  number of solutions displayed: 0\n",
      "\n",
      "718206607.4962041\n"
     ]
    }
   ],
   "source": [
    "#сохранение оптимальных цен в двумерный массив\n",
    "optimal_prices = optimize(df1 = shop_info, df2 = product_rels, df3 = prices, limits=LIMITS)"
   ]
  },
  {
   "cell_type": "code",
   "execution_count": 9,
   "id": "9f40fc39-e3a1-4a10-811b-359f324a4505",
   "metadata": {},
   "outputs": [],
   "source": [
    "import random\n",
    "def get_prices(which):\n",
    "    P = product_rels.shape[0]\n",
    "    W = prices.shape[0]\n",
    "    r_seasonal = prices.values.T\n",
    "\n",
    "    if(which == 'rand'):\n",
    "        return [[random.uniform(0.75*r_seasonal[p,w],1.25*r_seasonal[p,w]) for w in range(W)]for p in range(P)]\n",
    "    elif(which == 'min'):\n",
    "        return [[0.75*r_seasonal[p,w] for w in range(W)]for p in range(P)]\n",
    "    elif(which == 'max'):\n",
    "        return [[1.25*r_seasonal[p,w] for w in range(W)]for p in range(P)]\n",
    "    elif(which == 'nop'):\n",
    "        return r_seasonal"
   ]
  },
  {
   "cell_type": "code",
   "execution_count": 10,
   "id": "f6476245-c767-4a09-a3d6-b17975892715",
   "metadata": {},
   "outputs": [],
   "source": [
    "random_prices = get_prices('rand')\n",
    "custom_min_prices = get_prices('min')\n",
    "custom_max_prices = get_prices('max')\n",
    "not_optimal_prices = get_prices('nop')"
   ]
  },
  {
   "cell_type": "code",
   "execution_count": 11,
   "id": "4f279a89-8730-4fee-854e-7f95b3d30455",
   "metadata": {},
   "outputs": [],
   "source": [
    "def get_revenue(r: list) -> list:\n",
    "    S = shop_info.shape[0]\n",
    "    P = product_rels.shape[0]\n",
    "    W = prices.shape[0]\n",
    "    M = shop_info.values\n",
    "    C = product_rels.values \n",
    "    r_seasonal = prices.values.T\n",
    "\n",
    "    return [sum(sum(r[p][w] * (M[s,p] * (-(r[p][w]/r_seasonal[p,w])**2 - 0.075 * r[p][w]/r_seasonal[p,w] + 2.85)/1.775 \n",
    "                            + sum((r_seasonal[o,w]/r[o][w])**2 * C[p,o] * M[s,o] for o in range(P))) \\\n",
    "                    for p in range(P))for s in range(S))for w in range(W)]"
   ]
  },
  {
   "cell_type": "code",
   "execution_count": 12,
   "id": "b7654e41-bbea-4867-a00e-4888f719e4e4",
   "metadata": {},
   "outputs": [],
   "source": [
    "Revenue_with_opt = get_revenue(optimal_prices)\n",
    "Revenue_wo_opt = get_revenue(not_optimal_prices)\n",
    "Revenue_with_min = get_revenue(custom_min_prices)\n",
    "Revenue_with_max = get_revenue(custom_max_prices)\n",
    "Revenue_with_rand = get_revenue(random_prices)"
   ]
  },
  {
   "cell_type": "code",
   "execution_count": 13,
   "id": "696f5e9e-c2a7-4935-a241-135251cb2e12",
   "metadata": {},
   "outputs": [
    {
     "data": {
      "text/plain": [
       "718206607.4962015"
      ]
     },
     "execution_count": 13,
     "metadata": {},
     "output_type": "execute_result"
    }
   ],
   "source": [
    "#проверка, что сумма выручки по неделям равна общей выручке\n",
    "sum(Revenue_with_opt)"
   ]
  },
  {
   "cell_type": "code",
   "execution_count": 14,
   "id": "fbfef4bd-3dc6-4d6b-a262-d77ec5a21d43",
   "metadata": {},
   "outputs": [
    {
     "data": {
      "text/plain": [
       "<Axes: title={'center': 'Revenue from all stores'}, xlabel='Week number', ylabel='Expected revenue'>"
      ]
     },
     "execution_count": 14,
     "metadata": {},
     "output_type": "execute_result"
    },
    {
     "data": {
      "image/png": "[encoded data removed]",
      "text/plain": [
       "<Figure size 640x480 with 1 Axes>"
      ]
     },
     "metadata": {},
     "output_type": "display_data"
    }
   ],
   "source": [
    "# сравнение выручек при различных подходах к формированию цен\n",
    "revenues = {'Revenue_with_opt': Revenue_with_opt, 'Revenue_wo_opt': Revenue_wo_opt, 'Revenue_with_min': Revenue_with_min, \n",
    "            'Revenue_with_max':Revenue_with_max, 'Revenue_with_rand':Revenue_with_rand}\n",
    "pd.DataFrame(revenues).plot(xlabel='Week number',ylabel='Expected revenue',title='Revenue from all stores')"
   ]
  },
  {
   "cell_type": "code",
   "execution_count": 15,
   "id": "daf82d2a-73ff-4236-a99e-82d4f6061450",
   "metadata": {},
   "outputs": [
    {
     "data": {
      "text/plain": [
       "<Axes: title={'center': 'Revenue relative increase'}, xlabel='revenues'>"
      ]
     },
     "execution_count": 15,
     "metadata": {},
     "output_type": "execute_result"
    },
    {
     "data": {
      "image/png": "[encoded data removed]",
      "text/plain": [
       "<Figure size 640x480 with 1 Axes>"
      ]
     },
     "metadata": {},
     "output_type": "display_data"
    }
   ],
   "source": [
    "#прирост выручки при оптимальных ценах относительно остальных\n",
    "pd.DataFrame({'revenues':['Revenue_wo_opt', 'Revenue_with_min', 'Revenue_with_max', 'Revenue_with_rand'], \n",
    "              'increases':[sum(Revenue_with_opt)-sum(Revenue_wo_opt), sum(Revenue_with_opt)-sum(Revenue_with_min), \n",
    "                           sum(Revenue_with_opt)-sum(Revenue_with_max),sum(Revenue_with_opt)-sum(Revenue_with_rand)]}).plot(kind='bar',\n",
    "                                                                                                                           x='revenues',\n",
    "                                                                                                                           y='increases',\n",
    "                                                                                                                           title='Revenue relative increase')"
   ]
  },
  {
   "cell_type": "markdown",
   "id": "c41a5907-1639-44ca-b518-60938e4c8fa9",
   "metadata": {},
   "source": [
    "## Задание №2"
   ]
  },
  {
   "cell_type": "code",
   "execution_count": 16,
   "id": "79f9972e-4c1a-4227-94f8-d9bbe29fad78",
   "metadata": {},
   "outputs": [],
   "source": [
    "def modified_optimize(df1: pd.DataFrame, df2: pd.DataFrame, df3: pd.DataFrame, lim: int) -> list:\n",
    "    \n",
    "    #создание модели\n",
    "    model = pyomo.ConcreteModel('model')\n",
    "    \n",
    "    #число магазинов\n",
    "    S = df1.shape[0]\n",
    "    #число продуктов\n",
    "    P = df2.shape[0]\n",
    "    #число недель\n",
    "    W = df3.shape[0]\n",
    "    #матрица продаж продуктов в магазинах\n",
    "    M = df1.values\n",
    "    #матрица связанных продуктов\n",
    "    C = df2.values\n",
    "    #матрица сезонных ожидаемых цен \n",
    "    #(транспонирую, чтобы недели стали столбцами, т.к. переменные в целевой функции имеют индекс w для столбцов)\n",
    "    r_seasonal = df3.values.T\n",
    "    \n",
    "    #задание переменных задачи\n",
    "    model.p = pyomo.Set(initialize=range(P))\n",
    "    model.w = pyomo.Set(initialize=range(W))\n",
    "    model.X = pyomo.Set(initialize=model.p*model.w)\n",
    "    model.Y = pyomo.Set(initialize=model.p*model.w)\n",
    "    #матрица коэффициентов для цен продукта p в неделю w\n",
    "    model.x = pyomo.Var(model.X, domain=pyomo.Reals, bounds=(-0.25, 0.25))\n",
    "    #матрица наличия акции на продукт p в неделю w\n",
    "    model.y = pyomo.Var(model.Y, domain=pyomo.Binary, initialize=0)\n",
    "    \n",
    "    #целевая функция\n",
    "    F = sum(sum(sum((model.y[p,w] * model.x[p,w] * r_seasonal[p,w] + r_seasonal[p,w]) * \n",
    "                    (M[s,p] * (-((model.y[p,w] * model.x[p,w] * r_seasonal[p,w] + r_seasonal[p,w])/r_seasonal[p,w])**2 \n",
    "                               - 0.075 * (model.y[p,w] * model.x[p,w] * r_seasonal[p,w] + r_seasonal[p,w])/r_seasonal[p,w] + 2.85)/1.775 \n",
    "                            + sum((r_seasonal[o,w]/(model.y[o,w] * model.x[o,w] * r_seasonal[o,w] + r_seasonal[o,w]))**2 * C[p,o] * M[s,o] for o in range(P)))\\\n",
    "                            for w in range(W)) for p in range(P)) for s in range(S)) \n",
    "    \n",
    "    model.obj = pyomo.Objective(expr=F, sense=pyomo.maximize)\n",
    "\n",
    "    # объявление ограничений\n",
    "    model.c = pyomo.ConstraintList()\n",
    "\n",
    "    #ограничение количества продуктов в неделю, на которые действует акция\n",
    "    for w in range(W):\n",
    "        model.c.add(sum(model.y[p,w] for p in range(P)) <= lim)\n",
    "    \n",
    "    solver = pyomo.SolverFactory('bonmin')\n",
    "    results = solver.solve(model)\n",
    "    if (results.solver.status == SolverStatus.ok) or (results.solver.termination_condition == TerminationCondition.optimal):\n",
    "        print(results)\n",
    "        print(model.obj())\n",
    "        return [[model.y[p,w].value * model.x[p,w].value * r_seasonal[p,w] + r_seasonal[p,w] for w in range(W)]for p in range(P)]\n",
    "    else:\n",
    "        print (\"Solver Status:\",  result.solver.status)"
   ]
  },
  {
   "cell_type": "code",
   "execution_count": 17,
   "id": "aa1ec2de-44d6-4b28-91ac-95509e0968d5",
   "metadata": {},
   "outputs": [
    {
     "name": "stdout",
     "output_type": "stream",
     "text": [
      "\n",
      "Problem: \n",
      "- Lower bound: -inf\n",
      "  Upper bound: inf\n",
      "  Number of objectives: 1\n",
      "  Number of constraints: 0\n",
      "  Number of variables: 240\n",
      "  Sense: unknown\n",
      "Solver: \n",
      "- Status: ok\n",
      "  Message: bonmin\\x3a Optimal\n",
      "  Termination condition: optimal\n",
      "  Id: 3\n",
      "  Error rc: 0\n",
      "  Time: 912.249330997467\n",
      "Solution: \n",
      "- number of solutions: 0\n",
      "  number of solutions displayed: 0\n",
      "\n",
      "716417947.0125335\n"
     ]
    }
   ],
   "source": [
    "#сохранение оптимальных цен в двумерный массив\n",
    "optimal_prices_5 = modified_optimize(df1 = shop_info, df2 = product_rels, df3 = prices, lim = 5)"
   ]
  },
  {
   "cell_type": "code",
   "execution_count": 18,
   "id": "4fdec02f-ac08-4eda-aa8d-e4430ca94a34",
   "metadata": {},
   "outputs": [
    {
     "name": "stdout",
     "output_type": "stream",
     "text": [
      "\n",
      "Problem: \n",
      "- Lower bound: -inf\n",
      "  Upper bound: inf\n",
      "  Number of objectives: 1\n",
      "  Number of constraints: 0\n",
      "  Number of variables: 240\n",
      "  Sense: unknown\n",
      "Solver: \n",
      "- Status: ok\n",
      "  Message: bonmin\\x3a Optimal\n",
      "  Termination condition: optimal\n",
      "  Id: 3\n",
      "  Error rc: 0\n",
      "  Time: 451.488641500473\n",
      "Solution: \n",
      "- number of solutions: 0\n",
      "  number of solutions displayed: 0\n",
      "\n",
      "716416786.6237118\n"
     ]
    }
   ],
   "source": [
    "optimal_prices_4 = modified_optimize(df1 = shop_info, df2 = product_rels, df3 = prices, lim = 4)"
   ]
  },
  {
   "cell_type": "code",
   "execution_count": 19,
   "id": "e3f9e8d4-631a-4d6d-9b5b-6a6e1fbf4150",
   "metadata": {},
   "outputs": [
    {
     "name": "stdout",
     "output_type": "stream",
     "text": [
      "\n",
      "Problem: \n",
      "- Lower bound: -inf\n",
      "  Upper bound: inf\n",
      "  Number of objectives: 1\n",
      "  Number of constraints: 0\n",
      "  Number of variables: 240\n",
      "  Sense: unknown\n",
      "Solver: \n",
      "- Status: ok\n",
      "  Message: bonmin\\x3a Optimal\n",
      "  Termination condition: optimal\n",
      "  Id: 3\n",
      "  Error rc: 0\n",
      "  Time: 1127.6949543952942\n",
      "Solution: \n",
      "- number of solutions: 0\n",
      "  number of solutions displayed: 0\n",
      "\n",
      "716403961.2647941\n"
     ]
    }
   ],
   "source": [
    "optimal_prices_3 = modified_optimize(df1 = shop_info, df2 = product_rels, df3 = prices, lim = 3)"
   ]
  },
  {
   "cell_type": "code",
   "execution_count": 20,
   "id": "541916a4-4b46-44dd-802a-7abc99830498",
   "metadata": {},
   "outputs": [
    {
     "name": "stdout",
     "output_type": "stream",
     "text": [
      "\n",
      "Problem: \n",
      "- Lower bound: -inf\n",
      "  Upper bound: inf\n",
      "  Number of objectives: 1\n",
      "  Number of constraints: 0\n",
      "  Number of variables: 240\n",
      "  Sense: unknown\n",
      "Solver: \n",
      "- Status: ok\n",
      "  Message: bonmin\\x3a Optimal\n",
      "  Termination condition: optimal\n",
      "  Id: 3\n",
      "  Error rc: 0\n",
      "  Time: 50.516685247421265\n",
      "Solution: \n",
      "- number of solutions: 0\n",
      "  number of solutions displayed: 0\n",
      "\n",
      "714435755.8769426\n"
     ]
    }
   ],
   "source": [
    "optimal_prices_2 = modified_optimize(df1 = shop_info, df2 = product_rels, df3 = prices, lim = 2)"
   ]
  },
  {
   "cell_type": "code",
   "execution_count": 21,
   "id": "15c90491-87c2-48fe-a9ac-776d15f4a9a8",
   "metadata": {},
   "outputs": [
    {
     "name": "stdout",
     "output_type": "stream",
     "text": [
      "\n",
      "Problem: \n",
      "- Lower bound: -inf\n",
      "  Upper bound: inf\n",
      "  Number of objectives: 1\n",
      "  Number of constraints: 0\n",
      "  Number of variables: 240\n",
      "  Sense: unknown\n",
      "Solver: \n",
      "- Status: ok\n",
      "  Message: bonmin\\x3a Optimal\n",
      "  Termination condition: optimal\n",
      "  Id: 3\n",
      "  Error rc: 0\n",
      "  Time: 161.6748752593994\n",
      "Solution: \n",
      "- number of solutions: 0\n",
      "  number of solutions displayed: 0\n",
      "\n",
      "701002996.30018\n"
     ]
    }
   ],
   "source": [
    "optimal_prices_1 = modified_optimize(df1 = shop_info, df2 = product_rels, df3 = prices, lim = 1)"
   ]
  },
  {
   "cell_type": "code",
   "execution_count": null,
   "id": "9e3e52ed-5fcd-4fb9-9f18-129bd29f32b1",
   "metadata": {},
   "outputs": [],
   "source": [
    "optimal_prices_0 = modified_optimize(df1 = shop_info, df2 = product_rels, df3 = prices, lim = 0)"
   ]
  },
  {
   "cell_type": "code",
   "execution_count": null,
   "id": "84f03604-4c9c-47e2-86c3-775814ac2802",
   "metadata": {},
   "outputs": [],
   "source": [
    "Revenue_with_opt_0 = get_revenue(optimal_prices_0)\n",
    "Revenue_with_opt_1 = get_revenue(optimal_prices_1)\n",
    "Revenue_with_opt_2 = get_revenue(optimal_prices_2)\n",
    "Revenue_with_opt_3 = get_revenue(optimal_prices_3)\n",
    "Revenue_with_opt_4 = get_revenue(optimal_prices_4)\n",
    "Revenue_with_opt_5 = get_revenue(optimal_prices_5)"
   ]
  },
  {
   "cell_type": "code",
   "execution_count": null,
   "id": "1a82dfc9-9318-47d8-ad3c-84d91a5a9825",
   "metadata": {},
   "outputs": [],
   "source": [
    "# сравнение выручек при различных количествах акций в неделю\n",
    "revenues = {'N_promo = 0': Revenue_with_opt_0, \n",
    "            'N_promo = 1, growth = %0.2f%%'%((sum(Revenue_with_opt_1) - sum(Revenue_with_opt_0))*100/sum(Revenue_with_opt_0)): Revenue_with_opt_1,\n",
    "            'N_promo = 2, growth = %0.2f%%'%((sum(Revenue_with_opt_2) - sum(Revenue_with_opt_0))*100/sum(Revenue_with_opt_0)): Revenue_with_opt_2,\n",
    "            'N_promo = 3, growth = %0.2f%%'%((sum(Revenue_with_opt_3) - sum(Revenue_with_opt_0))*100/sum(Revenue_with_opt_0)): Revenue_with_opt_3,\n",
    "            'N_promo = 4, growth = %0.2f%%'%((sum(Revenue_with_opt_4) - sum(Revenue_with_opt_0))*100/sum(Revenue_with_opt_0)): Revenue_with_opt_4,\n",
    "            'N_promo = 5, growth = %0.2f%%'%((sum(Revenue_with_opt_5) - sum(Revenue_with_opt_0))*100/sum(Revenue_with_opt_0)): Revenue_with_opt_5}\n",
    "pd.DataFrame(revenues).plot(xlabel='Week number',ylabel='Expected revenue',title='Revenue from all stores',figsize=(15,10))"
   ]
  }
 ],
 "metadata": {
  "kernelspec": {
   "display_name": "Python 3 (ipykernel)",
   "language": "python",
   "name": "python3"
  },
  "language_info": {
   "codemirror_mode": {
    "name": "ipython",
    "version": 3
   },
   "file_extension": ".py",
   "mimetype": "text/x-python",
   "name": "python",
   "nbconvert_exporter": "python",
   "pygments_lexer": "ipython3",
   "version": "3.11.4"
  }
 },
 "nbformat": 4,
 "nbformat_minor": 5
}
